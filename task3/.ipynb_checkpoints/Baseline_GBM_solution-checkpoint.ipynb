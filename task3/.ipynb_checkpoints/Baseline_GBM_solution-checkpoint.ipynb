{
 "cells": [
  {
   "cell_type": "markdown",
   "metadata": {
    "deletable": true,
    "editable": true
   },
   "source": [
    "# Demand prediction baseline solution"
   ]
  },
  {
   "cell_type": "markdown",
   "metadata": {
    "deletable": true,
    "editable": true
   },
   "source": [
    "Victor Kantor, xead.wl@gmail.com"
   ]
  },
  {
   "cell_type": "code",
   "execution_count": 1,
   "metadata": {
    "collapsed": false,
    "deletable": true,
    "editable": true
   },
   "outputs": [],
   "source": [
    "import pandas as pd\n",
    "\n",
    "train = pd.read_csv(\"train.tsv\")\n",
    "test = pd.read_csv(\"test.tsv\")\n",
    "sample_submission = pd.read_csv(\"sample_submission.tsv\")"
   ]
  },
  {
   "cell_type": "code",
   "execution_count": 2,
   "metadata": {
    "collapsed": false,
    "deletable": true,
    "editable": true
   },
   "outputs": [
    {
     "name": "stdout",
     "output_type": "stream",
     "text": [
      "7246 7246\n"
     ]
    }
   ],
   "source": [
    "frac = 0.1 # fraction of learning examples used for model fitting\n",
    "\n",
    "# sample the train set if your don't want to deel with all examples\n",
    "train = train.sample(frac=frac, random_state=42)\n",
    "\n",
    "X = train.drop(['Num','y'], axis=1)\n",
    "y = train['y']\n",
    "print (len(X), len(y))"
   ]
  },
  {
   "cell_type": "code",
   "execution_count": 3,
   "metadata": {
    "collapsed": false,
    "deletable": true,
    "editable": true
   },
   "outputs": [
    {
     "name": "stdout",
     "output_type": "stream",
     "text": [
      "2016\n",
      "2016\n",
      "CPU times: user 8.48 s, sys: 186 ms, total: 8.67 s\n",
      "Wall time: 9.38 s\n"
     ]
    }
   ],
   "source": [
    "%%time\n",
    "from sklearn.ensemble import GradientBoostingRegressor\n",
    "\n",
    "model = GradientBoostingRegressor(n_estimators=100, max_depth=5, random_state=43)\n",
    "model.fit(X, y)\n",
    "\n",
    "preds = model.predict(test.drop(['Num'], axis=1))\n",
    "\n",
    "print (len(preds))\n",
    "print (len(sample_submission))"
   ]
  },
  {
   "cell_type": "code",
   "execution_count": 4,
   "metadata": {
    "collapsed": false,
    "deletable": true,
    "editable": true
   },
   "outputs": [],
   "source": [
    "sample_submission['y'] = preds"
   ]
  },
  {
   "cell_type": "code",
   "execution_count": 5,
   "metadata": {
    "collapsed": false,
    "deletable": true,
    "editable": true
   },
   "outputs": [
    {
     "data": {
      "text/html": [
       "<div>\n",
       "<table border=\"1\" class=\"dataframe\">\n",
       "  <thead>\n",
       "    <tr style=\"text-align: right;\">\n",
       "      <th></th>\n",
       "      <th>Num</th>\n",
       "      <th>y</th>\n",
       "    </tr>\n",
       "  </thead>\n",
       "  <tbody>\n",
       "    <tr>\n",
       "      <th>0</th>\n",
       "      <td>348622</td>\n",
       "      <td>3098.119369</td>\n",
       "    </tr>\n",
       "    <tr>\n",
       "      <th>1</th>\n",
       "      <td>348623</td>\n",
       "      <td>31132.837802</td>\n",
       "    </tr>\n",
       "    <tr>\n",
       "      <th>2</th>\n",
       "      <td>348624</td>\n",
       "      <td>334972.050497</td>\n",
       "    </tr>\n",
       "    <tr>\n",
       "      <th>3</th>\n",
       "      <td>348625</td>\n",
       "      <td>40890.440505</td>\n",
       "    </tr>\n",
       "    <tr>\n",
       "      <th>4</th>\n",
       "      <td>348626</td>\n",
       "      <td>3098.119369</td>\n",
       "    </tr>\n",
       "  </tbody>\n",
       "</table>\n",
       "</div>"
      ],
      "text/plain": [
       "      Num              y\n",
       "0  348622    3098.119369\n",
       "1  348623   31132.837802\n",
       "2  348624  334972.050497\n",
       "3  348625   40890.440505\n",
       "4  348626    3098.119369"
      ]
     },
     "execution_count": 5,
     "metadata": {},
     "output_type": "execute_result"
    }
   ],
   "source": [
    "sample_submission.head(5)"
   ]
  },
  {
   "cell_type": "code",
   "execution_count": 6,
   "metadata": {
    "collapsed": false,
    "deletable": true,
    "editable": true
   },
   "outputs": [
    {
     "name": "stdout",
     "output_type": "stream",
     "text": [
      "Empty DataFrame\n",
      "Columns: [Num, y]\n",
      "Index: []\n"
     ]
    }
   ],
   "source": [
    "# In GBM you can get some negative predictions:\n",
    "print (sample_submission[sample_submission['y'] < 0])"
   ]
  },
  {
   "cell_type": "code",
   "execution_count": 7,
   "metadata": {
    "collapsed": true,
    "deletable": true,
    "editable": true
   },
   "outputs": [],
   "source": [
    "sample_submission['y'] = sample_submission['y'].map(lambda x: x if x > 0 else 0.0)"
   ]
  },
  {
   "cell_type": "code",
   "execution_count": 8,
   "metadata": {
    "collapsed": true,
    "deletable": true,
    "editable": true
   },
   "outputs": [],
   "source": [
    "sample_submission.to_csv(\"baseline_submission.tsv\", sep=',', index=False)"
   ]
  },
  {
   "cell_type": "code",
   "execution_count": 9,
   "metadata": {
    "collapsed": false,
    "deletable": true,
    "editable": true
   },
   "outputs": [
    {
     "data": {
      "text/html": [
       "<div>\n",
       "<table border=\"1\" class=\"dataframe\">\n",
       "  <thead>\n",
       "    <tr style=\"text-align: right;\">\n",
       "      <th></th>\n",
       "      <th>Num</th>\n",
       "      <th>y</th>\n",
       "      <th>year</th>\n",
       "      <th>week</th>\n",
       "      <th>shift</th>\n",
       "      <th>item_id</th>\n",
       "      <th>f1</th>\n",
       "      <th>f2</th>\n",
       "      <th>f3</th>\n",
       "      <th>f4</th>\n",
       "      <th>...</th>\n",
       "      <th>f51</th>\n",
       "      <th>f52</th>\n",
       "      <th>f53</th>\n",
       "      <th>f54</th>\n",
       "      <th>f55</th>\n",
       "      <th>f56</th>\n",
       "      <th>f57</th>\n",
       "      <th>f58</th>\n",
       "      <th>f59</th>\n",
       "      <th>f60</th>\n",
       "    </tr>\n",
       "  </thead>\n",
       "  <tbody>\n",
       "    <tr>\n",
       "      <th>44283</th>\n",
       "      <td>220152</td>\n",
       "      <td>160500</td>\n",
       "      <td>2014</td>\n",
       "      <td>13</td>\n",
       "      <td>1</td>\n",
       "      <td>20452327</td>\n",
       "      <td>129441.0</td>\n",
       "      <td>104610.0</td>\n",
       "      <td>121114.0</td>\n",
       "      <td>133780.0</td>\n",
       "      <td>...</td>\n",
       "      <td>95880.0</td>\n",
       "      <td>88520.0</td>\n",
       "      <td>107270.0</td>\n",
       "      <td>79610.0</td>\n",
       "      <td>99210.0</td>\n",
       "      <td>114561.0</td>\n",
       "      <td>93790.0</td>\n",
       "      <td>98070.0</td>\n",
       "      <td>83980.0</td>\n",
       "      <td>105240.0</td>\n",
       "    </tr>\n",
       "    <tr>\n",
       "      <th>50871</th>\n",
       "      <td>253360</td>\n",
       "      <td>13107</td>\n",
       "      <td>2014</td>\n",
       "      <td>23</td>\n",
       "      <td>1</td>\n",
       "      <td>20441989</td>\n",
       "      <td>4162.0</td>\n",
       "      <td>6760.0</td>\n",
       "      <td>7210.0</td>\n",
       "      <td>11330.0</td>\n",
       "      <td>...</td>\n",
       "      <td>9932.0</td>\n",
       "      <td>8908.0</td>\n",
       "      <td>10464.0</td>\n",
       "      <td>7431.0</td>\n",
       "      <td>10334.0</td>\n",
       "      <td>11548.0</td>\n",
       "      <td>8698.0</td>\n",
       "      <td>8696.0</td>\n",
       "      <td>8160.0</td>\n",
       "      <td>7570.0</td>\n",
       "    </tr>\n",
       "    <tr>\n",
       "      <th>13810</th>\n",
       "      <td>66191</td>\n",
       "      <td>53402</td>\n",
       "      <td>2013</td>\n",
       "      <td>21</td>\n",
       "      <td>3</td>\n",
       "      <td>20438706</td>\n",
       "      <td>24931.0</td>\n",
       "      <td>30338.0</td>\n",
       "      <td>30690.0</td>\n",
       "      <td>37930.0</td>\n",
       "      <td>...</td>\n",
       "      <td>34475.0</td>\n",
       "      <td>22390.0</td>\n",
       "      <td>27124.0</td>\n",
       "      <td>29660.0</td>\n",
       "      <td>30105.0</td>\n",
       "      <td>28054.0</td>\n",
       "      <td>31545.0</td>\n",
       "      <td>28185.0</td>\n",
       "      <td>34890.0</td>\n",
       "      <td>28790.0</td>\n",
       "    </tr>\n",
       "    <tr>\n",
       "      <th>10062</th>\n",
       "      <td>48676</td>\n",
       "      <td>9676</td>\n",
       "      <td>2013</td>\n",
       "      <td>15</td>\n",
       "      <td>2</td>\n",
       "      <td>20438591</td>\n",
       "      <td>11505.0</td>\n",
       "      <td>13550.0</td>\n",
       "      <td>15360.0</td>\n",
       "      <td>14750.0</td>\n",
       "      <td>...</td>\n",
       "      <td>10920.0</td>\n",
       "      <td>14030.0</td>\n",
       "      <td>8060.0</td>\n",
       "      <td>8430.0</td>\n",
       "      <td>9980.0</td>\n",
       "      <td>13930.0</td>\n",
       "      <td>6340.0</td>\n",
       "      <td>7810.0</td>\n",
       "      <td>8960.0</td>\n",
       "      <td>10260.0</td>\n",
       "    </tr>\n",
       "    <tr>\n",
       "      <th>37186</th>\n",
       "      <td>183929</td>\n",
       "      <td>1336</td>\n",
       "      <td>2014</td>\n",
       "      <td>3</td>\n",
       "      <td>2</td>\n",
       "      <td>20449525</td>\n",
       "      <td>0.0</td>\n",
       "      <td>0.0</td>\n",
       "      <td>0.0</td>\n",
       "      <td>0.0</td>\n",
       "      <td>...</td>\n",
       "      <td>2090.0</td>\n",
       "      <td>2470.0</td>\n",
       "      <td>1145.0</td>\n",
       "      <td>2955.0</td>\n",
       "      <td>3915.0</td>\n",
       "      <td>740.0</td>\n",
       "      <td>2260.0</td>\n",
       "      <td>1403.0</td>\n",
       "      <td>1417.0</td>\n",
       "      <td>980.0</td>\n",
       "    </tr>\n",
       "  </tbody>\n",
       "</table>\n",
       "<p>5 rows × 66 columns</p>\n",
       "</div>"
      ],
      "text/plain": [
       "          Num       y  year  week  shift   item_id        f1        f2  \\\n",
       "44283  220152  160500  2014    13      1  20452327  129441.0  104610.0   \n",
       "50871  253360   13107  2014    23      1  20441989    4162.0    6760.0   \n",
       "13810   66191   53402  2013    21      3  20438706   24931.0   30338.0   \n",
       "10062   48676    9676  2013    15      2  20438591   11505.0   13550.0   \n",
       "37186  183929    1336  2014     3      2  20449525       0.0       0.0   \n",
       "\n",
       "             f3        f4    ...         f51      f52       f53      f54  \\\n",
       "44283  121114.0  133780.0    ...     95880.0  88520.0  107270.0  79610.0   \n",
       "50871    7210.0   11330.0    ...      9932.0   8908.0   10464.0   7431.0   \n",
       "13810   30690.0   37930.0    ...     34475.0  22390.0   27124.0  29660.0   \n",
       "10062   15360.0   14750.0    ...     10920.0  14030.0    8060.0   8430.0   \n",
       "37186       0.0       0.0    ...      2090.0   2470.0    1145.0   2955.0   \n",
       "\n",
       "           f55       f56      f57      f58      f59       f60  \n",
       "44283  99210.0  114561.0  93790.0  98070.0  83980.0  105240.0  \n",
       "50871  10334.0   11548.0   8698.0   8696.0   8160.0    7570.0  \n",
       "13810  30105.0   28054.0  31545.0  28185.0  34890.0   28790.0  \n",
       "10062   9980.0   13930.0   6340.0   7810.0   8960.0   10260.0  \n",
       "37186   3915.0     740.0   2260.0   1403.0   1417.0     980.0  \n",
       "\n",
       "[5 rows x 66 columns]"
      ]
     },
     "execution_count": 9,
     "metadata": {},
     "output_type": "execute_result"
    }
   ],
   "source": [
    "train.head()"
   ]
  },
  {
   "cell_type": "code",
   "execution_count": 17,
   "metadata": {
    "collapsed": false
   },
   "outputs": [],
   "source": [
    "import numpy as np\n",
    "def smape(x, y):\n",
    "    return np.mean( abs(x-y) / (abs(x)-abs(y)) * 2 )"
   ]
  },
  {
   "cell_type": "code",
   "execution_count": 16,
   "metadata": {
    "collapsed": false
   },
   "outputs": [
    {
     "data": {
      "text/plain": [
       "array([2, 3])"
      ]
     },
     "execution_count": 16,
     "metadata": {},
     "output_type": "execute_result"
    }
   ],
   "source": []
  },
  {
   "cell_type": "code",
   "execution_count": null,
   "metadata": {
    "collapsed": true
   },
   "outputs": [],
   "source": []
  }
 ],
 "metadata": {
  "kernelspec": {
   "display_name": "Python 3",
   "language": "python",
   "name": "python3"
  },
  "language_info": {
   "codemirror_mode": {
    "name": "ipython",
    "version": 3
   },
   "file_extension": ".py",
   "mimetype": "text/x-python",
   "name": "python",
   "nbconvert_exporter": "python",
   "pygments_lexer": "ipython3",
   "version": "3.6.0"
  }
 },
 "nbformat": 4,
 "nbformat_minor": 0
}
