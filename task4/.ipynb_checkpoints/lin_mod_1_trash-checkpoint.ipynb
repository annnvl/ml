{
 "cells": [
  {
   "cell_type": "code",
   "execution_count": 1,
   "metadata": {
    "collapsed": true
   },
   "outputs": [],
   "source": [
    "import pandas as pd\n",
    "import numpy as np\n",
    "from sklearn.ensemble import GradientBoostingRegressor, RandomForestRegressor\n",
    "from sklearn import model_selection, preprocessing\n",
    "import seaborn as sns\n",
    "import matplotlib.pyplot as plt\n",
    "from nltk.util import ngrams\n",
    "%matplotlib inline"
   ]
  },
  {
   "cell_type": "code",
   "execution_count": 10,
   "metadata": {
    "collapsed": true
   },
   "outputs": [],
   "source": [
    "data = pd.read_csv('linear_train.txt')"
   ]
  },
  {
   "cell_type": "code",
   "execution_count": 27,
   "metadata": {
    "collapsed": false
   },
   "outputs": [],
   "source": [
    "text = (\" \").join(data[0].as_matrix())"
   ]
  },
  {
   "cell_type": "code",
   "execution_count": 64,
   "metadata": {
    "collapsed": false
   },
   "outputs": [],
   "source": [
    "bigrams = ngrams(text, n=2)"
   ]
  },
  {
   "cell_type": "code",
   "execution_count": 39,
   "metadata": {
    "collapsed": false
   },
   "outputs": [
    {
     "name": "stdout",
     "output_type": "stream",
     "text": [
      "('А', 'а')\n",
      "('а', 'л')\n",
      "('л', 'т')\n",
      "('т', 'о')\n",
      "('о', 'н')\n",
      "('н', 'е')\n",
      "('е', 'н')\n",
      "('н', ' ')\n",
      "(' ', 'А')\n",
      "('А', 'а')\n",
      "('а', 'р')\n",
      "('р', ' ')\n",
      "(' ', 'А')\n",
      "('А', 'а')\n",
      "('а', 'р')\n",
      "('р', 'о')\n",
      "('о', 'н')\n",
      "('н', ' ')\n",
      "(' ', 'А')\n",
      "('А', 'А')\n",
      "('А', 'Р')\n",
      "('Р', 'О')\n",
      "('О', 'Н')\n",
      "('Н', ' ')\n",
      "(' ', 'А')\n",
      "('А', 'а')\n",
      "('а', 'р')\n",
      "('р', 'о')\n",
      "('о', 'н')\n",
      "('н', 'а')\n",
      "('а', ' ')\n",
      "(' ', 'А')\n",
      "('А', 'а')\n",
      "('а', 'р')\n",
      "('р', 'о')\n",
      "('о', 'н')\n",
      "('н', 'а')\n",
      "('а', ' ')\n",
      "(' ', 'А')\n",
      "('А', 'а')\n",
      "('а', 'р')\n",
      "('р', 'о')\n",
      "('о', 'н')\n",
      "('н', 'е')\n",
      "('е', ' ')\n",
      "(' ', 'А')\n",
      "('А', 'а')\n",
      "('а', 'р')\n",
      "('р', 'о')\n",
      "('о', 'н')\n",
      "('н', 'о')\n",
      "('о', 'в')\n",
      "('в', ' ')\n",
      "(' ', 'А')\n",
      "('А', 'а')\n",
      "('а', 'х')\n",
      "('х', 'е')\n",
      "('е', 'н')\n",
      "('н', 'а')\n",
      "('а', ' ')\n",
      "(' ', 'А')\n",
      "('А', 'б')\n",
      "('б', 'а')\n",
      "('а', 'б')\n",
      "('б', 'к')\n",
      "('к', 'о')\n",
      "('о', 'в')\n",
      "('в', ' ')\n",
      "(' ', 'а')\n",
      "('а', 'б')\n",
      "('б', 'а')\n",
      "('а', 'ж')\n",
      "('ж', 'у')\n",
      "('у', 'р')\n",
      "('р', ' ')\n",
      "(' ', 'а')\n",
      "('а', 'б')\n",
      "('б', 'а')\n",
      "('а', 'ж')\n",
      "('ж', 'у')\n",
      "('у', 'р')\n",
      "('р', 'о')\n",
      "('о', 'м')\n",
      "('м', ' ')\n",
      "(' ', 'а')\n",
      "('а', 'б')\n",
      "('б', 'а')\n",
      "('а', 'ж')\n",
      "('ж', 'у')\n",
      "('у', 'р')\n",
      "('р', 'ы')\n",
      "('ы', ' ')\n",
      "(' ', 'А')\n",
      "('А', 'б')\n",
      "('б', 'а')\n",
      "('а', 'ж')\n",
      "('ж', 'у')\n",
      "('у', 'р')\n",
      "('р', 'ы')\n",
      "('ы', ' ')\n",
      "(' ', 'а')\n"
     ]
    }
   ],
   "source": [
    "k = 0\n",
    "for i in bigrams:\n",
    "    print(i)\n",
    "    k+=1\n",
    "    if(k>100):\n",
    "        break"
   ]
  },
  {
   "cell_type": "code",
   "execution_count": 68,
   "metadata": {
    "collapsed": true
   },
   "outputs": [],
   "source": [
    "attrib = np.zeros(shape=(len(data), len(bigr)))"
   ]
  },
  {
   "cell_type": "code",
   "execution_count": 76,
   "metadata": {
    "collapsed": false
   },
   "outputs": [],
   "source": [
    "bigr = set(bigrams)\n",
    "bigr_num = {j:i for i, j in enumerate(bigr)}\n",
    "#номер слова\n",
    "w = 0\n",
    "#номер биграммы\n",
    "k = 1\n",
    "for bgr in bigrams:\n",
    "    attrib[w][bigr_num[bgr]] += 1\n",
    "    k += 1\n",
    "    if(k == len(data[0][w])+1):\n",
    "        w += 1\n",
    "        k = 0"
   ]
  },
  {
   "cell_type": "code",
   "execution_count": 79,
   "metadata": {
    "collapsed": false
   },
   "outputs": [],
   "source": [
    "s = (sum(i) for i in attrib)"
   ]
  },
  {
   "cell_type": "code",
   "execution_count": null,
   "metadata": {
    "collapsed": true
   },
   "outputs": [],
   "source": []
  }
 ],
 "metadata": {},
 "nbformat": 4,
 "nbformat_minor": 2
}
